{
 "cells": [
  {
   "cell_type": "markdown",
   "id": "37275c4b",
   "metadata": {},
   "source": [
    "# Whatsapp Chat Analysis"
   ]
  },
  {
   "cell_type": "code",
   "execution_count": 101,
   "id": "416b26c3",
   "metadata": {},
   "outputs": [],
   "source": [
    "import re\n",
    "import pandas as pd"
   ]
  },
  {
   "cell_type": "code",
   "execution_count": 102,
   "id": "c5c8ba30",
   "metadata": {},
   "outputs": [],
   "source": [
    "f = open(\"WhatsApp Chat with AIML - 2023 Batch.txt\", encoding='utf-8')"
   ]
  },
  {
   "cell_type": "code",
   "execution_count": 103,
   "id": "07e9e92b",
   "metadata": {},
   "outputs": [],
   "source": [
    "data = f.read()"
   ]
  },
  {
   "cell_type": "code",
   "execution_count": 104,
   "id": "6980102c",
   "metadata": {},
   "outputs": [
    {
     "name": "stdout",
     "output_type": "stream",
     "text": [
      "<class 'str'>\n"
     ]
    }
   ],
   "source": [
    "print(type(data))"
   ]
  },
  {
   "cell_type": "code",
   "execution_count": 105,
   "id": "7d4b3bba",
   "metadata": {},
   "outputs": [],
   "source": [
    "pattern = r'\\d{1,2}/\\d{1,2}/\\d{2},\\s\\d{1,2}:\\d{2}\\u202f[AP]M\\s-\\s'"
   ]
  },
  {
   "cell_type": "code",
   "execution_count": 106,
   "id": "658bd192",
   "metadata": {},
   "outputs": [
    {
     "data": {
      "text/plain": [
       "1130"
      ]
     },
     "execution_count": 106,
     "metadata": {},
     "output_type": "execute_result"
    }
   ],
   "source": [
    "messages = re.split(pattern, data)[1:]\n",
    "len(messages)"
   ]
  },
  {
   "cell_type": "code",
   "execution_count": 107,
   "id": "7135cbc2",
   "metadata": {},
   "outputs": [],
   "source": [
    "dates = re.findall(pattern, data)\n",
    "dates = [d.replace('\\u202f', ' ').replace(' -', '').strip() for d in dates]"
   ]
  },
  {
   "cell_type": "code",
   "execution_count": 108,
   "id": "18ef1b86",
   "metadata": {},
   "outputs": [
    {
     "data": {
      "text/html": [
       "<div>\n",
       "<style scoped>\n",
       "    .dataframe tbody tr th:only-of-type {\n",
       "        vertical-align: middle;\n",
       "    }\n",
       "\n",
       "    .dataframe tbody tr th {\n",
       "        vertical-align: top;\n",
       "    }\n",
       "\n",
       "    .dataframe thead th {\n",
       "        text-align: right;\n",
       "    }\n",
       "</style>\n",
       "<table border=\"1\" class=\"dataframe\">\n",
       "  <thead>\n",
       "    <tr style=\"text-align: right;\">\n",
       "      <th></th>\n",
       "      <th>user_message</th>\n",
       "      <th>date</th>\n",
       "    </tr>\n",
       "  </thead>\n",
       "  <tbody>\n",
       "    <tr>\n",
       "      <th>0</th>\n",
       "      <td>+91 96201 26128: Lateral entry students come t...</td>\n",
       "      <td>9/10/24, 2:52 PM</td>\n",
       "    </tr>\n",
       "    <tr>\n",
       "      <th>1</th>\n",
       "      <td>+91 96201 26128: 10th , diploma marks, soft co...</td>\n",
       "      <td>9/10/24, 2:58 PM</td>\n",
       "    </tr>\n",
       "    <tr>\n",
       "      <th>2</th>\n",
       "      <td>+91 96201 26128: &lt;Media omitted&gt;\\n</td>\n",
       "      <td>9/10/24, 3:02 PM</td>\n",
       "    </tr>\n",
       "    <tr>\n",
       "      <th>3</th>\n",
       "      <td>+91 96201 26128: &lt;Media omitted&gt;\\n</td>\n",
       "      <td>9/10/24, 3:06 PM</td>\n",
       "    </tr>\n",
       "    <tr>\n",
       "      <th>4</th>\n",
       "      <td>+91 95356 43199: Lateral entry Students bring ...</td>\n",
       "      <td>9/10/24, 3:14 PM</td>\n",
       "    </tr>\n",
       "  </tbody>\n",
       "</table>\n",
       "</div>"
      ],
      "text/plain": [
       "                                        user_message              date\n",
       "0  +91 96201 26128: Lateral entry students come t...  9/10/24, 2:52 PM\n",
       "1  +91 96201 26128: 10th , diploma marks, soft co...  9/10/24, 2:58 PM\n",
       "2                 +91 96201 26128: <Media omitted>\\n  9/10/24, 3:02 PM\n",
       "3                 +91 96201 26128: <Media omitted>\\n  9/10/24, 3:06 PM\n",
       "4  +91 95356 43199: Lateral entry Students bring ...  9/10/24, 3:14 PM"
      ]
     },
     "execution_count": 108,
     "metadata": {},
     "output_type": "execute_result"
    }
   ],
   "source": [
    "df = pd.DataFrame({'user_message': messages, 'date': dates})\n",
    "df.head()"
   ]
  },
  {
   "cell_type": "code",
   "execution_count": 109,
   "id": "ccc15b06",
   "metadata": {},
   "outputs": [
    {
     "data": {
      "text/plain": [
       "(1130, 2)"
      ]
     },
     "execution_count": 109,
     "metadata": {},
     "output_type": "execute_result"
    }
   ],
   "source": [
    "df.shape"
   ]
  },
  {
   "cell_type": "code",
   "execution_count": 110,
   "id": "8f07b827",
   "metadata": {},
   "outputs": [
    {
     "name": "stdout",
     "output_type": "stream",
     "text": [
      "Index(['user_message', 'date'], dtype='object')\n"
     ]
    }
   ],
   "source": [
    "print(df.columns)"
   ]
  },
  {
   "cell_type": "code",
   "execution_count": 112,
   "id": "e31011a9",
   "metadata": {},
   "outputs": [
    {
     "data": {
      "text/html": [
       "<div>\n",
       "<style scoped>\n",
       "    .dataframe tbody tr th:only-of-type {\n",
       "        vertical-align: middle;\n",
       "    }\n",
       "\n",
       "    .dataframe tbody tr th {\n",
       "        vertical-align: top;\n",
       "    }\n",
       "\n",
       "    .dataframe thead th {\n",
       "        text-align: right;\n",
       "    }\n",
       "</style>\n",
       "<table border=\"1\" class=\"dataframe\">\n",
       "  <thead>\n",
       "    <tr style=\"text-align: right;\">\n",
       "      <th></th>\n",
       "      <th>date</th>\n",
       "      <th>user</th>\n",
       "      <th>message</th>\n",
       "    </tr>\n",
       "  </thead>\n",
       "  <tbody>\n",
       "    <tr>\n",
       "      <th>0</th>\n",
       "      <td>9/10/24, 2:52 PM</td>\n",
       "      <td>+91 96201 26128</td>\n",
       "      <td>Lateral entry students come toAIML lab2 for re...</td>\n",
       "    </tr>\n",
       "    <tr>\n",
       "      <th>1</th>\n",
       "      <td>9/10/24, 2:58 PM</td>\n",
       "      <td>+91 96201 26128</td>\n",
       "      <td>10th , diploma marks, soft copy of photo less ...</td>\n",
       "    </tr>\n",
       "    <tr>\n",
       "      <th>2</th>\n",
       "      <td>9/10/24, 3:02 PM</td>\n",
       "      <td>+91 96201 26128</td>\n",
       "      <td>&lt;Media omitted&gt;\\n</td>\n",
       "    </tr>\n",
       "    <tr>\n",
       "      <th>3</th>\n",
       "      <td>9/10/24, 3:06 PM</td>\n",
       "      <td>+91 96201 26128</td>\n",
       "      <td>&lt;Media omitted&gt;\\n</td>\n",
       "    </tr>\n",
       "    <tr>\n",
       "      <th>4</th>\n",
       "      <td>9/10/24, 3:14 PM</td>\n",
       "      <td>+91 95356 43199</td>\n",
       "      <td>Lateral entry Students bring your KEA Seat Num...</td>\n",
       "    </tr>\n",
       "  </tbody>\n",
       "</table>\n",
       "</div>"
      ],
      "text/plain": [
       "               date             user  \\\n",
       "0  9/10/24, 2:52 PM  +91 96201 26128   \n",
       "1  9/10/24, 2:58 PM  +91 96201 26128   \n",
       "2  9/10/24, 3:02 PM  +91 96201 26128   \n",
       "3  9/10/24, 3:06 PM  +91 96201 26128   \n",
       "4  9/10/24, 3:14 PM  +91 95356 43199   \n",
       "\n",
       "                                             message  \n",
       "0  Lateral entry students come toAIML lab2 for re...  \n",
       "1  10th , diploma marks, soft copy of photo less ...  \n",
       "2                                  <Media omitted>\\n  \n",
       "3                                  <Media omitted>\\n  \n",
       "4  Lateral entry Students bring your KEA Seat Num...  "
      ]
     },
     "execution_count": 112,
     "metadata": {},
     "output_type": "execute_result"
    }
   ],
   "source": [
    "import re\n",
    "\n",
    "users = []\n",
    "messages = []\n",
    "\n",
    "for message in df['user_message']:\n",
    "    entry = re.split(r'(^[^:]+):\\s', message, maxsplit=1)\n",
    "    if len(entry) > 2:\n",
    "        users.append(entry[1])\n",
    "        messages.append(entry[2])\n",
    "    else:\n",
    "        users.append('group_notification')\n",
    "        messages.append(entry[0])\n",
    "\n",
    "df['user'] = users\n",
    "df['message'] = messages\n",
    "df.drop(columns=['user_message'], inplace=True)\n",
    "\n",
    "df.head()\n"
   ]
  },
  {
   "cell_type": "code",
   "execution_count": 125,
   "id": "38ef5e98",
   "metadata": {},
   "outputs": [],
   "source": [
    "# Convert the date column to datetime\n",
    "df['date'] = pd.to_datetime(df['date'], format='%m/%d/%y, %I:%M %p')\n",
    "\n",
    "# Extract year, month, etc\n",
    "df['year'] = df['date'].dt.year\n",
    "df['month'] = df['date'].dt.month_name()\n",
    "df['day'] = df['date'].dt.day\n",
    "df['hour'] = df['date'].dt.hour\n",
    "df['minute'] = df['date'].dt.minute\n",
    "\n"
   ]
  },
  {
   "cell_type": "code",
   "execution_count": 126,
   "id": "3b157ea4",
   "metadata": {},
   "outputs": [
    {
     "data": {
      "text/html": [
       "<div>\n",
       "<style scoped>\n",
       "    .dataframe tbody tr th:only-of-type {\n",
       "        vertical-align: middle;\n",
       "    }\n",
       "\n",
       "    .dataframe tbody tr th {\n",
       "        vertical-align: top;\n",
       "    }\n",
       "\n",
       "    .dataframe thead th {\n",
       "        text-align: right;\n",
       "    }\n",
       "</style>\n",
       "<table border=\"1\" class=\"dataframe\">\n",
       "  <thead>\n",
       "    <tr style=\"text-align: right;\">\n",
       "      <th></th>\n",
       "      <th>date</th>\n",
       "      <th>user</th>\n",
       "      <th>message</th>\n",
       "      <th>year</th>\n",
       "      <th>month</th>\n",
       "      <th>day</th>\n",
       "      <th>hour</th>\n",
       "      <th>minute</th>\n",
       "    </tr>\n",
       "  </thead>\n",
       "  <tbody>\n",
       "    <tr>\n",
       "      <th>0</th>\n",
       "      <td>2024-09-10 14:52:00</td>\n",
       "      <td>+91 96201 26128</td>\n",
       "      <td>Lateral entry students come toAIML lab2 for re...</td>\n",
       "      <td>2024</td>\n",
       "      <td>September</td>\n",
       "      <td>10</td>\n",
       "      <td>14</td>\n",
       "      <td>52</td>\n",
       "    </tr>\n",
       "    <tr>\n",
       "      <th>1</th>\n",
       "      <td>2024-09-10 14:58:00</td>\n",
       "      <td>+91 96201 26128</td>\n",
       "      <td>10th , diploma marks, soft copy of photo less ...</td>\n",
       "      <td>2024</td>\n",
       "      <td>September</td>\n",
       "      <td>10</td>\n",
       "      <td>14</td>\n",
       "      <td>58</td>\n",
       "    </tr>\n",
       "    <tr>\n",
       "      <th>2</th>\n",
       "      <td>2024-09-10 15:02:00</td>\n",
       "      <td>+91 96201 26128</td>\n",
       "      <td>&lt;Media omitted&gt;\\n</td>\n",
       "      <td>2024</td>\n",
       "      <td>September</td>\n",
       "      <td>10</td>\n",
       "      <td>15</td>\n",
       "      <td>2</td>\n",
       "    </tr>\n",
       "    <tr>\n",
       "      <th>3</th>\n",
       "      <td>2024-09-10 15:06:00</td>\n",
       "      <td>+91 96201 26128</td>\n",
       "      <td>&lt;Media omitted&gt;\\n</td>\n",
       "      <td>2024</td>\n",
       "      <td>September</td>\n",
       "      <td>10</td>\n",
       "      <td>15</td>\n",
       "      <td>6</td>\n",
       "    </tr>\n",
       "    <tr>\n",
       "      <th>4</th>\n",
       "      <td>2024-09-10 15:14:00</td>\n",
       "      <td>+91 95356 43199</td>\n",
       "      <td>Lateral entry Students bring your KEA Seat Num...</td>\n",
       "      <td>2024</td>\n",
       "      <td>September</td>\n",
       "      <td>10</td>\n",
       "      <td>15</td>\n",
       "      <td>14</td>\n",
       "    </tr>\n",
       "  </tbody>\n",
       "</table>\n",
       "</div>"
      ],
      "text/plain": [
       "                 date             user  \\\n",
       "0 2024-09-10 14:52:00  +91 96201 26128   \n",
       "1 2024-09-10 14:58:00  +91 96201 26128   \n",
       "2 2024-09-10 15:02:00  +91 96201 26128   \n",
       "3 2024-09-10 15:06:00  +91 96201 26128   \n",
       "4 2024-09-10 15:14:00  +91 95356 43199   \n",
       "\n",
       "                                             message  year      month  day  \\\n",
       "0  Lateral entry students come toAIML lab2 for re...  2024  September   10   \n",
       "1  10th , diploma marks, soft copy of photo less ...  2024  September   10   \n",
       "2                                  <Media omitted>\\n  2024  September   10   \n",
       "3                                  <Media omitted>\\n  2024  September   10   \n",
       "4  Lateral entry Students bring your KEA Seat Num...  2024  September   10   \n",
       "\n",
       "   hour  minute  \n",
       "0    14      52  \n",
       "1    14      58  \n",
       "2    15       2  \n",
       "3    15       6  \n",
       "4    15      14  "
      ]
     },
     "execution_count": 126,
     "metadata": {},
     "output_type": "execute_result"
    }
   ],
   "source": [
    "df.head()"
   ]
  }
 ],
 "metadata": {
  "kernelspec": {
   "display_name": "Python 3",
   "language": "python",
   "name": "python3"
  },
  "language_info": {
   "codemirror_mode": {
    "name": "ipython",
    "version": 3
   },
   "file_extension": ".py",
   "mimetype": "text/x-python",
   "name": "python",
   "nbconvert_exporter": "python",
   "pygments_lexer": "ipython3",
   "version": "3.12.7"
  }
 },
 "nbformat": 4,
 "nbformat_minor": 5
}
